{
 "cells": [
  {
   "cell_type": "code",
   "execution_count": null,
   "id": "5c339c1c",
   "metadata": {},
   "outputs": [
    {
     "name": "stdout",
     "output_type": "stream",
     "text": [
      "003vvx7Niy0yvhvHt4a68B\n",
      "55q3Ro66yXWi9rsEddeEN4\n",
      "2EoOZnxNgtmZaD8uUmz2nD\n",
      "39shmbIHICJ2Wxnk1fPSdz\n",
      "3d9DChrdc6BOeFsbrZ3Is0\n",
      "2EqlS6tkEnglzr7tkKAAYD\n",
      "6QewNVIDKdSl8Y3ycuHIei\n",
      "6eN1f9KNmiWEhpE2RhQqB5\n",
      "73TxYZd0lBCVRrHawrAglA\n",
      "451GvHwY99NKV4zdKPRWmv\n",
      "63xdwScd1Ai1GigAwQxE8y\n",
      "0tZ3mElWcr74OOhKEiNz1x\n",
      "05wIrZSwuaVWhcv5FfqeH0\n",
      "28cnXtME493VX9NOw9cIUh\n",
      "2Mb3zpobD0CvJGWv6NpsPy\n",
      "4MbV8zrWudQflnbiIzp29t\n",
      "7AgMX97ljLm9BzszyyXEYZ\n",
      "5Ru9OjtEw5htfnVKpYsIcv\n"
     ]
    }
   ],
   "source": [
    "import spotipy\n",
    "from spotipy.oauth2 import SpotifyClientCredentials\n",
    "from dotenv import load_dotenv\n",
    "import pandas as pd\n",
    "import os\n",
    "\n",
    "load_dotenv()\n",
    "\n",
    "# Spotify authentication credentials\n",
    "client_id = os.getenv('SPOTIFY_CLIENT_ID')\n",
    "client_secret = os.getenv('SPOTIFY_CLIENT_SECRET')\n",
    "playlist_id = '3xcL5K55RbI2PYzzsSbcBJ'\n",
    "\n",
    "# Set up Spotify client\n",
    "sp = spotipy.Spotify(auth_manager=SpotifyClientCredentials(client_id=client_id, client_secret=client_secret))\n",
    "\n",
    "# Get playlist items and extract track IDs\n",
    "tracks = sp.playlist_items(playlist_id)\n",
    "track_ids = [item['track']['id'] for item in tracks['items'] if item['track']]"
   ]
  }
 ],
 "metadata": {
  "kernelspec": {
   "display_name": "Python 3",
   "language": "python",
   "name": "python3"
  },
  "language_info": {
   "codemirror_mode": {
    "name": "ipython",
    "version": 3
   },
   "file_extension": ".py",
   "mimetype": "text/x-python",
   "name": "python",
   "nbconvert_exporter": "python",
   "pygments_lexer": "ipython3",
   "version": "3.10.14"
  }
 },
 "nbformat": 4,
 "nbformat_minor": 5
}
