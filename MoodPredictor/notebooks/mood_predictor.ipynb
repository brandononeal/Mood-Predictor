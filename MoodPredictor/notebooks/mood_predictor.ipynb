{
 "cells": [
  {
   "cell_type": "code",
   "execution_count": 1,
   "id": "220f8e4e",
   "metadata": {},
   "outputs": [
    {
     "name": "stdout",
     "output_type": "stream",
     "text": [
      "                        id                                       name  \\\n",
      "0   003vvx7Niy0yvhvHt4a68B                             Mr. Brightside   \n",
      "1   55q3Ro66yXWi9rsEddeEN4                               Pyramid Song   \n",
      "2   2EoOZnxNgtmZaD8uUmz2nD                             Black Hole Sun   \n",
      "3   39shmbIHICJ2Wxnk1fPSdz  Should I Stay or Should I Go - Remastered   \n",
      "4   2EqlS6tkEnglzr7tkKAAYD            Come Together - Remastered 2009   \n",
      "5   6QewNVIDKdSl8Y3ycuHIei                                  Even Flow   \n",
      "6   6eN1f9KNmiWEhpE2RhQqB5                              Paradise City   \n",
      "7   73TxYZd0lBCVRrHawrAglA                              Sweet Emotion   \n",
      "8   451GvHwY99NKV4zdKPRWmv                            Banana Pancakes   \n",
      "9   63xdwScd1Ai1GigAwQxE8y                        Let's Stay Together   \n",
      "10  0tZ3mElWcr74OOhKEiNz1x                            Bulls On Parade   \n",
      "11  05wIrZSwuaVWhcv5FfqeH0                        Walking On Sunshine   \n",
      "12  28cnXtME493VX9NOw9cIUh                                       Hurt   \n",
      "13  2Mb3zpobD0CvJGWv6NpsPy         They Reminisce Over You (T.R.O.Y.)   \n",
      "14  7AgMX97ljLm9BzszyyXEYZ                           Jazz (We've Got)   \n",
      "15  5Ru9OjtEw5htfnVKpYsIcv                                   UMI Says   \n",
      "\n",
      "                      artist  happiness  danceability  acousticness   mode  \\\n",
      "0                The Killers         24            35             0  major   \n",
      "1                  Radiohead          7            12            79  minor   \n",
      "2                Soundgarden         15            35             0  major   \n",
      "3                  The Clash         82            74             8  major   \n",
      "4                The Beatles         19            53             3  minor   \n",
      "5                  Pearl Jam         27            39             0  minor   \n",
      "6              Guns N' Roses         39            27             2  major   \n",
      "7                  Aerosmith         49            38             0  major   \n",
      "8               Jack Johnson         62            82            61  major   \n",
      "9                   Al Green         51            76            58  minor   \n",
      "10  Rage Against The Machine         57            41             1  major   \n",
      "11       Katrina & The Waves         94            60             1  major   \n",
      "12               Johnny Cash         16            53            65  minor   \n",
      "13   Pete Rock & C.L. Smooth         67            76            14  major   \n",
      "14      A Tribe Called Quest         72            82            72  major   \n",
      "15                   Mos Def         57            72            31  major   \n",
      "\n",
      "    energy  tempo loudness  \n",
      "0       91    148    -5 dB  \n",
      "1       34     73    -8 dB  \n",
      "2       83    105    -5 dB  \n",
      "3       84    113    -6 dB  \n",
      "4       38    165   -12 dB  \n",
      "5       94    105    -7 dB  \n",
      "6       98    100    -6 dB  \n",
      "7       76     99   -11 dB  \n",
      "8       38    114    -8 dB  \n",
      "9       40    102   -11 dB  \n",
      "10      92    166    -7 dB  \n",
      "11      87    110   -12 dB  \n",
      "12      39     90    -8 dB  \n",
      "13      68    102   -11 dB  \n",
      "14      48     92   -16 dB  \n",
      "15      67    121   -10 dB  \n"
     ]
    }
   ],
   "source": [
    "import pandas as pd\n",
    "\n",
    "# Read data from CSV\n",
    "df = pd.read_csv('../data/track_features.csv')\n",
    "print(df)"
   ]
  }
 ],
 "metadata": {
  "kernelspec": {
   "display_name": "Python 3",
   "language": "python",
   "name": "python3"
  },
  "language_info": {
   "codemirror_mode": {
    "name": "ipython",
    "version": 3
   },
   "file_extension": ".py",
   "mimetype": "text/x-python",
   "name": "python",
   "nbconvert_exporter": "python",
   "pygments_lexer": "ipython3",
   "version": "3.10.14"
  }
 },
 "nbformat": 4,
 "nbformat_minor": 5
}
